{
 "cells": [
  {
   "cell_type": "code",
   "execution_count": 1,
   "metadata": {},
   "outputs": [],
   "source": [
    "%matplotlib inline\n",
    "import os\n",
    "import re\n",
    "import cv2\n",
    "import mmcv\n",
    "import skimage\n",
    "import json\n",
    "import glob\n",
    "import numpy as np\n",
    "import pandas as pd\n",
    "import seaborn as sns\n",
    "import skimage.io as io\n",
    "\n",
    "import matplotlib.pyplot as plt\n",
    "import pylab\n",
    "import plotly_express as px\n",
    "import seaborn as sns\n",
    "import json\n",
    "from tqdm import tqdm\n",
    "from numpy import random\n",
    "from collections import defaultdict\n",
    "%load_ext autoreload\n",
    "%autoreload 2\n",
    "# from utils.visual import draw_bbox"
   ]
  },
  {
   "cell_type": "code",
   "execution_count": 3,
   "metadata": {},
   "outputs": [],
   "source": [
    "sub_json = '/data/yao/reid/PReID/rep_work_dirs/exp5-mgn-resnet50ibnls2-384x144-bs12x8-warmup10-flip-pad10-meanstd-lbsm-layer3_-5-erase0502-allgem_3-minInst2/eval/exp5-mgn-resnet50ibnls2-384x144-bs12x8-warmup10-flip-pad10-meanstd-lbsm-layer3_-5-erase0502-allgem_3-minInst2-flip_adabn_mgnsub.json'\n",
    "with open(sub_json,'r') as fp:\n",
    "    results = json.load(fp)"
   ]
  },
  {
   "cell_type": "code",
   "execution_count": 4,
   "metadata": {},
   "outputs": [
    {
     "ename": "KeyError",
     "evalue": "0",
     "output_type": "error",
     "traceback": [
      "\u001b[0;31m---------------------------------------------------------------------------\u001b[0m",
      "\u001b[0;31mKeyError\u001b[0m                                  Traceback (most recent call last)",
      "\u001b[0;32m<ipython-input-4-14e46ab0c097>\u001b[0m in \u001b[0;36m<module>\u001b[0;34m\u001b[0m\n\u001b[0;32m----> 1\u001b[0;31m \u001b[0mresults\u001b[0m\u001b[0;34m[\u001b[0m\u001b[0;36m0\u001b[0m\u001b[0;34m]\u001b[0m\u001b[0;34m\u001b[0m\u001b[0;34m\u001b[0m\u001b[0m\n\u001b[0m",
      "\u001b[0;31mKeyError\u001b[0m: 0"
     ]
    }
   ],
   "source": [
    "pylab.rcParams['figure.figsize'] = (16, 8.0)\n",
    "\n",
    "query_dir = '/data/Dataset/PReID/dataset2/query_a/'\n",
    "gallery_dir = '/data/Dataset/PReID/dataset2/gallery_a/'\n",
    "\n",
    "n_col = 6\n",
    "queries = list(results.keys())\n",
    "np.random.shuffle(queries)\n",
    "query = query_dir+queries[0]\n",
    "filenames = \n",
    "plt.figure()\n",
    "\n",
    "# np.random.shuffle(filenames)\n",
    "filenames = filenames[:16]\n",
    "# print(filenames)\n",
    "filenames = sorted(filenames)\n",
    "\n",
    "for idx,filename in enumerate(filenames):\n",
    "#     print(filename)\n",
    "    plt.subplot(len(filenames)//n_col+(len(filenames)%n_col>0),n_col,idx+1)\n",
    "    img = cv2.imread(filename)\n",
    "#     img = img[:,:,::-1]\n",
    "#     img= cv2.cvtColor(img,cv2.COLOR_HSV2RGB)\n",
    "    plt.imshow(img)\n",
    "\n",
    "#     plt.imshow(img[:,:,2])\n",
    "    \n",
    "    \n",
    "#     plt.title(filename.split('/')[-1])"
   ]
  },
  {
   "cell_type": "code",
   "execution_count": null,
   "metadata": {},
   "outputs": [],
   "source": []
  }
 ],
 "metadata": {
  "kernelspec": {
   "display_name": "mmdet",
   "language": "python",
   "name": "mmdet"
  },
  "language_info": {
   "codemirror_mode": {
    "name": "ipython",
    "version": 3
   },
   "file_extension": ".py",
   "mimetype": "text/x-python",
   "name": "python",
   "nbconvert_exporter": "python",
   "pygments_lexer": "ipython3",
   "version": "3.7.3"
  }
 },
 "nbformat": 4,
 "nbformat_minor": 2
}
